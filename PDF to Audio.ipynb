{
 "cells": [
  {
   "cell_type": "markdown",
   "id": "a72904ba",
   "metadata": {},
   "source": [
    "# Import <font color='red'>PyPDF2</font> and <font color='red'>pyttsx3</font> Libraries"
   ]
  },
  {
   "cell_type": "code",
   "execution_count": 5,
   "id": "66f32967",
   "metadata": {},
   "outputs": [],
   "source": [
    "import PyPDF2,pyttsx3"
   ]
  },
  {
   "cell_type": "markdown",
   "id": "bfcb0018",
   "metadata": {},
   "source": [
    "# Store your pdf in a Variable"
   ]
  },
  {
   "cell_type": "code",
   "execution_count": 6,
   "id": "d2eb9a8f",
   "metadata": {},
   "outputs": [],
   "source": [
    "path = open('Resume-Aadit-Palande.pdf','rb')"
   ]
  },
  {
   "cell_type": "markdown",
   "id": "e50ef655",
   "metadata": {},
   "source": [
    "# Read the PDF using PdfFileReader"
   ]
  },
  {
   "cell_type": "code",
   "execution_count": 8,
   "id": "8e7409d3",
   "metadata": {},
   "outputs": [],
   "source": [
    "pdfReader = PyPDF2.PdfFileReader(path)"
   ]
  },
  {
   "cell_type": "markdown",
   "id": "a0f187ca",
   "metadata": {},
   "source": [
    "# Text to Speech"
   ]
  },
  {
   "cell_type": "code",
   "execution_count": 9,
   "id": "ece686d3",
   "metadata": {},
   "outputs": [],
   "source": [
    "speak = pyttsx3.init()"
   ]
  },
  {
   "cell_type": "markdown",
   "id": "cdd5e8fa",
   "metadata": {},
   "source": [
    "# Speech to Audio"
   ]
  },
  {
   "cell_type": "code",
   "execution_count": null,
   "id": "684c459f",
   "metadata": {},
   "outputs": [],
   "source": [
    "for pages in range(pdfReader.numPages):\n",
    "    text = pdfReader.getPage(pages).extractText()\n",
    "    speak.say(text)\n",
    "    speak.runAndWait()\n",
    "speak.stop()"
   ]
  },
  {
   "cell_type": "code",
   "execution_count": null,
   "id": "31055f11",
   "metadata": {},
   "outputs": [],
   "source": []
  }
 ],
 "metadata": {
  "kernelspec": {
   "display_name": "Python 3 (ipykernel)",
   "language": "python",
   "name": "python3"
  },
  "language_info": {
   "codemirror_mode": {
    "name": "ipython",
    "version": 3
   },
   "file_extension": ".py",
   "mimetype": "text/x-python",
   "name": "python",
   "nbconvert_exporter": "python",
   "pygments_lexer": "ipython3",
   "version": "3.8.8"
  }
 },
 "nbformat": 4,
 "nbformat_minor": 5
}
